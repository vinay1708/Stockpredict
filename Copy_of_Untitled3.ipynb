{
  "nbformat": 4,
  "nbformat_minor": 0,
  "metadata": {
    "colab": {
      "name": "Copy of Untitled3.ipynb",
      "provenance": [],
      "authorship_tag": "ABX9TyPh5j40jHcP8lXkJSIVSvCB",
      "include_colab_link": true
    },
    "kernelspec": {
      "name": "python3",
      "display_name": "Python 3"
    },
    "language_info": {
      "name": "python"
    }
  },
  "cells": [
    {
      "cell_type": "markdown",
      "metadata": {
        "id": "view-in-github",
        "colab_type": "text"
      },
      "source": [
        "<a href=\"https://colab.research.google.com/github/vinay1708/Stockpredict/blob/master/Copy_of_Untitled3.ipynb\" target=\"_parent\"><img src=\"https://colab.research.google.com/assets/colab-badge.svg\" alt=\"Open In Colab\"/></a>"
      ]
    },
    {
      "cell_type": "code",
      "metadata": {
        "id": "9Ah7fACIRFF4"
      },
      "source": [
        "import pandas_datareader as pdr\n",
        "#modele for getting stock related data"
      ],
      "execution_count": null,
      "outputs": []
    },
    {
      "cell_type": "markdown",
      "metadata": {
        "id": "1dVCwBoPSMLo"
      },
      "source": [
        "getting the required stock data data with the help of API"
      ]
    },
    {
      "cell_type": "code",
      "metadata": {
        "id": "DKfCm4Y7RxOE"
      },
      "source": [
        "df = pdr.get_data_tiingo('GOOGL',api_key='2c6b86c874e9ba6f47b83ebc11fd65b0f64ef2c9')"
      ],
      "execution_count": null,
      "outputs": []
    },
    {
      "cell_type": "code",
      "metadata": {
        "id": "9ZXJhXDhSkj1"
      },
      "source": [
        "import pandas as pd"
      ],
      "execution_count": null,
      "outputs": []
    },
    {
      "cell_type": "code",
      "metadata": {
        "id": "nyqgO4mKS1Gt"
      },
      "source": [
        "#converting data frame to csv file\n",
        "df.to_csv('AAPL.csv')"
      ],
      "execution_count": null,
      "outputs": []
    },
    {
      "cell_type": "code",
      "metadata": {
        "id": "pTMrUhYJS-fY"
      },
      "source": [
        "df = pd.read_csv('AAPL.csv')"
      ],
      "execution_count": null,
      "outputs": []
    },
    {
      "cell_type": "code",
      "metadata": {
        "colab": {
          "base_uri": "https://localhost:8080/",
          "height": 423
        },
        "id": "V2nhv4PNTLNw",
        "outputId": "9b9fa441-ccfb-4d81-d1d0-af1d83db7b9b"
      },
      "source": [
        "#CHECKING IF DATA IS IMPORTED\n",
        "display(df)"
      ],
      "execution_count": null,
      "outputs": [
        {
          "output_type": "display_data",
          "data": {
            "text/html": [
              "<div>\n",
              "<style scoped>\n",
              "    .dataframe tbody tr th:only-of-type {\n",
              "        vertical-align: middle;\n",
              "    }\n",
              "\n",
              "    .dataframe tbody tr th {\n",
              "        vertical-align: top;\n",
              "    }\n",
              "\n",
              "    .dataframe thead th {\n",
              "        text-align: right;\n",
              "    }\n",
              "</style>\n",
              "<table border=\"1\" class=\"dataframe\">\n",
              "  <thead>\n",
              "    <tr style=\"text-align: right;\">\n",
              "      <th></th>\n",
              "      <th>symbol</th>\n",
              "      <th>date</th>\n",
              "      <th>close</th>\n",
              "      <th>high</th>\n",
              "      <th>low</th>\n",
              "      <th>open</th>\n",
              "      <th>volume</th>\n",
              "      <th>adjClose</th>\n",
              "      <th>adjHigh</th>\n",
              "      <th>adjLow</th>\n",
              "      <th>adjOpen</th>\n",
              "      <th>adjVolume</th>\n",
              "      <th>divCash</th>\n",
              "      <th>splitFactor</th>\n",
              "    </tr>\n",
              "  </thead>\n",
              "  <tbody>\n",
              "    <tr>\n",
              "      <th>0</th>\n",
              "      <td>GOOGL</td>\n",
              "      <td>2016-12-05 00:00:00+00:00</td>\n",
              "      <td>778.22</td>\n",
              "      <td>780.000</td>\n",
              "      <td>766.9686</td>\n",
              "      <td>770.00</td>\n",
              "      <td>1688473</td>\n",
              "      <td>778.22</td>\n",
              "      <td>780.000</td>\n",
              "      <td>766.9686</td>\n",
              "      <td>770.00</td>\n",
              "      <td>1688473</td>\n",
              "      <td>0.0</td>\n",
              "      <td>1.0</td>\n",
              "    </tr>\n",
              "    <tr>\n",
              "      <th>1</th>\n",
              "      <td>GOOGL</td>\n",
              "      <td>2016-12-06 00:00:00+00:00</td>\n",
              "      <td>776.18</td>\n",
              "      <td>785.280</td>\n",
              "      <td>773.3200</td>\n",
              "      <td>780.19</td>\n",
              "      <td>1734099</td>\n",
              "      <td>776.18</td>\n",
              "      <td>785.280</td>\n",
              "      <td>773.3200</td>\n",
              "      <td>780.19</td>\n",
              "      <td>1734099</td>\n",
              "      <td>0.0</td>\n",
              "      <td>1.0</td>\n",
              "    </tr>\n",
              "    <tr>\n",
              "      <th>2</th>\n",
              "      <td>GOOGL</td>\n",
              "      <td>2016-12-07 00:00:00+00:00</td>\n",
              "      <td>791.47</td>\n",
              "      <td>792.000</td>\n",
              "      <td>773.5300</td>\n",
              "      <td>779.95</td>\n",
              "      <td>2029415</td>\n",
              "      <td>791.47</td>\n",
              "      <td>792.000</td>\n",
              "      <td>773.5300</td>\n",
              "      <td>779.95</td>\n",
              "      <td>2029415</td>\n",
              "      <td>0.0</td>\n",
              "      <td>1.0</td>\n",
              "    </tr>\n",
              "    <tr>\n",
              "      <th>3</th>\n",
              "      <td>GOOGL</td>\n",
              "      <td>2016-12-08 00:00:00+00:00</td>\n",
              "      <td>795.17</td>\n",
              "      <td>799.000</td>\n",
              "      <td>787.9050</td>\n",
              "      <td>792.95</td>\n",
              "      <td>1612531</td>\n",
              "      <td>795.17</td>\n",
              "      <td>799.000</td>\n",
              "      <td>787.9050</td>\n",
              "      <td>792.95</td>\n",
              "      <td>1612531</td>\n",
              "      <td>0.0</td>\n",
              "      <td>1.0</td>\n",
              "    </tr>\n",
              "    <tr>\n",
              "      <th>4</th>\n",
              "      <td>GOOGL</td>\n",
              "      <td>2016-12-09 00:00:00+00:00</td>\n",
              "      <td>809.45</td>\n",
              "      <td>809.950</td>\n",
              "      <td>798.0500</td>\n",
              "      <td>799.30</td>\n",
              "      <td>1904463</td>\n",
              "      <td>809.45</td>\n",
              "      <td>809.950</td>\n",
              "      <td>798.0500</td>\n",
              "      <td>799.30</td>\n",
              "      <td>1904463</td>\n",
              "      <td>0.0</td>\n",
              "      <td>1.0</td>\n",
              "    </tr>\n",
              "    <tr>\n",
              "      <th>...</th>\n",
              "      <td>...</td>\n",
              "      <td>...</td>\n",
              "      <td>...</td>\n",
              "      <td>...</td>\n",
              "      <td>...</td>\n",
              "      <td>...</td>\n",
              "      <td>...</td>\n",
              "      <td>...</td>\n",
              "      <td>...</td>\n",
              "      <td>...</td>\n",
              "      <td>...</td>\n",
              "      <td>...</td>\n",
              "      <td>...</td>\n",
              "      <td>...</td>\n",
              "    </tr>\n",
              "    <tr>\n",
              "      <th>1253</th>\n",
              "      <td>GOOGL</td>\n",
              "      <td>2021-11-26 00:00:00+00:00</td>\n",
              "      <td>2843.66</td>\n",
              "      <td>2891.150</td>\n",
              "      <td>2836.8500</td>\n",
              "      <td>2886.97</td>\n",
              "      <td>1523462</td>\n",
              "      <td>2843.66</td>\n",
              "      <td>2891.150</td>\n",
              "      <td>2836.8500</td>\n",
              "      <td>2886.97</td>\n",
              "      <td>1523462</td>\n",
              "      <td>0.0</td>\n",
              "      <td>1.0</td>\n",
              "    </tr>\n",
              "    <tr>\n",
              "      <th>1254</th>\n",
              "      <td>GOOGL</td>\n",
              "      <td>2021-11-29 00:00:00+00:00</td>\n",
              "      <td>2910.61</td>\n",
              "      <td>2925.950</td>\n",
              "      <td>2877.8700</td>\n",
              "      <td>2880.00</td>\n",
              "      <td>1629752</td>\n",
              "      <td>2910.61</td>\n",
              "      <td>2925.950</td>\n",
              "      <td>2877.8700</td>\n",
              "      <td>2880.00</td>\n",
              "      <td>1629752</td>\n",
              "      <td>0.0</td>\n",
              "      <td>1.0</td>\n",
              "    </tr>\n",
              "    <tr>\n",
              "      <th>1255</th>\n",
              "      <td>GOOGL</td>\n",
              "      <td>2021-11-30 00:00:00+00:00</td>\n",
              "      <td>2837.95</td>\n",
              "      <td>2920.000</td>\n",
              "      <td>2832.0300</td>\n",
              "      <td>2900.17</td>\n",
              "      <td>2103361</td>\n",
              "      <td>2837.95</td>\n",
              "      <td>2920.000</td>\n",
              "      <td>2832.0300</td>\n",
              "      <td>2900.17</td>\n",
              "      <td>2103361</td>\n",
              "      <td>0.0</td>\n",
              "      <td>1.0</td>\n",
              "    </tr>\n",
              "    <tr>\n",
              "      <th>1256</th>\n",
              "      <td>GOOGL</td>\n",
              "      <td>2021-12-01 00:00:00+00:00</td>\n",
              "      <td>2821.03</td>\n",
              "      <td>2919.005</td>\n",
              "      <td>2818.2400</td>\n",
              "      <td>2880.00</td>\n",
              "      <td>1702762</td>\n",
              "      <td>2821.03</td>\n",
              "      <td>2919.005</td>\n",
              "      <td>2818.2400</td>\n",
              "      <td>2880.00</td>\n",
              "      <td>1702762</td>\n",
              "      <td>0.0</td>\n",
              "      <td>1.0</td>\n",
              "    </tr>\n",
              "    <tr>\n",
              "      <th>1257</th>\n",
              "      <td>GOOGL</td>\n",
              "      <td>2021-12-02 00:00:00+00:00</td>\n",
              "      <td>2859.32</td>\n",
              "      <td>2877.290</td>\n",
              "      <td>2804.2900</td>\n",
              "      <td>2825.00</td>\n",
              "      <td>1459742</td>\n",
              "      <td>2859.32</td>\n",
              "      <td>2877.290</td>\n",
              "      <td>2804.2900</td>\n",
              "      <td>2825.00</td>\n",
              "      <td>1459742</td>\n",
              "      <td>0.0</td>\n",
              "      <td>1.0</td>\n",
              "    </tr>\n",
              "  </tbody>\n",
              "</table>\n",
              "<p>1258 rows × 14 columns</p>\n",
              "</div>"
            ],
            "text/plain": [
              "     symbol                       date  ...  divCash  splitFactor\n",
              "0     GOOGL  2016-12-05 00:00:00+00:00  ...      0.0          1.0\n",
              "1     GOOGL  2016-12-06 00:00:00+00:00  ...      0.0          1.0\n",
              "2     GOOGL  2016-12-07 00:00:00+00:00  ...      0.0          1.0\n",
              "3     GOOGL  2016-12-08 00:00:00+00:00  ...      0.0          1.0\n",
              "4     GOOGL  2016-12-09 00:00:00+00:00  ...      0.0          1.0\n",
              "...     ...                        ...  ...      ...          ...\n",
              "1253  GOOGL  2021-11-26 00:00:00+00:00  ...      0.0          1.0\n",
              "1254  GOOGL  2021-11-29 00:00:00+00:00  ...      0.0          1.0\n",
              "1255  GOOGL  2021-11-30 00:00:00+00:00  ...      0.0          1.0\n",
              "1256  GOOGL  2021-12-01 00:00:00+00:00  ...      0.0          1.0\n",
              "1257  GOOGL  2021-12-02 00:00:00+00:00  ...      0.0          1.0\n",
              "\n",
              "[1258 rows x 14 columns]"
            ]
          },
          "metadata": {}
        }
      ]
    },
    {
      "cell_type": "code",
      "metadata": {
        "id": "Eq_s5HtpT3om"
      },
      "source": [
        "df1 = df.reset_index()['close']"
      ],
      "execution_count": null,
      "outputs": []
    },
    {
      "cell_type": "code",
      "metadata": {
        "colab": {
          "base_uri": "https://localhost:8080/"
        },
        "id": "FCq_LJVwVt_M",
        "outputId": "321b514e-3136-4fe8-d3e4-f27b9752673e"
      },
      "source": [
        "df1.shape"
      ],
      "execution_count": null,
      "outputs": [
        {
          "output_type": "execute_result",
          "data": {
            "text/plain": [
              "(1258,)"
            ]
          },
          "metadata": {},
          "execution_count": 20
        }
      ]
    },
    {
      "cell_type": "code",
      "metadata": {
        "id": "1kui4E9KVyQJ"
      },
      "source": [
        "import matplotlib.pyplot as plt"
      ],
      "execution_count": null,
      "outputs": []
    },
    {
      "cell_type": "code",
      "metadata": {
        "colab": {
          "base_uri": "https://localhost:8080/",
          "height": 282
        },
        "id": "gdnZ_6c4V8nu",
        "outputId": "9d57a51d-d5ec-46b5-a8c7-8b7aad272087"
      },
      "source": [
        "plt.plot(df1)"
      ],
      "execution_count": null,
      "outputs": [
        {
          "output_type": "execute_result",
          "data": {
            "text/plain": [
              "[<matplotlib.lines.Line2D at 0x7f50ed88bad0>]"
            ]
          },
          "metadata": {},
          "execution_count": 22
        },
        {
          "output_type": "display_data",
          "data": {
            "image/png": "[encoded data removed]",
            "text/plain": [
              "<Figure size 432x288 with 1 Axes>"
            ]
          },
          "metadata": {
            "needs_background": "light"
          }
        }
      ]
    }
  ]
}